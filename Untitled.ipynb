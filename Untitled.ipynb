{
 "cells": [
  {
   "cell_type": "code",
   "execution_count": 6,
   "metadata": {
    "collapsed": false
   },
   "outputs": [],
   "source": [
    "catagories = {'Bacterial Infections and Mycoses':'C01',\n",
    "'Virus Diseases':'C02',\n",
    "'Parasitic Diseases':'C03',\n",
    "'Neoplasms':'C04',\n",
    "'MusCuloskeletal Diseases':'C05',\n",
    "'Digestive System Diseases':'C06',\n",
    "'Stomatognathic Diseases':'C07',\n",
    "'Respiratory Tract Diseases':'C08',\n",
    "'Otorhinolaryngologic Diseases':'C09',\n",
    "'Nervous System Diseases':'C10',\n",
    "'Eye Diseases':'C11',\n",
    "'Urologic and Male Genital Diseases':'C12',\n",
    "'Female Genital Diseases and Pregnancy Complications':'C13',\n",
    "'CardiovasCular Diseases':'C14',\n",
    "'Hemic and Lymphatic Diseases':'C15',\n",
    "'Neonatal Diseases and Abnormalities':'C16',\n",
    "'Skin and Connective Tissue Diseases':'C17',\n",
    "'Nutritional and Metabolic Diseases':'C18',\n",
    "'Endocrine Diseases':'C19',\n",
    "'Immunologic Diseases':'C20',\n",
    "'Disorders of Environmental Origin':'C21',\n",
    "'Animal Diseases':'C22',\n",
    "'Pathological Conditions, Signs and Symptoms':'C23'}"
   ]
  },
  {
   "cell_type": "code",
   "execution_count": null,
   "metadata": {
    "collapsed": true
   },
   "outputs": [],
   "source": []
  },
  {
   "cell_type": "code",
   "execution_count": null,
   "metadata": {
    "collapsed": true
   },
   "outputs": [],
   "source": []
  }
 ],
 "metadata": {
  "kernelspec": {
   "display_name": "Python 2",
   "language": "python",
   "name": "python2"
  }
 },
 "nbformat": 4,
 "nbformat_minor": 2
}
