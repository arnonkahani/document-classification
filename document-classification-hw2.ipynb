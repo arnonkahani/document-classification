{
 "cells": [
  {
   "cell_type": "code",
   "execution_count": 6,
   "metadata": {
    "collapsed": false
   },
   "outputs": [],
   "source": [
    "catagories = {'C01':'Bacterial Infections and Mycoses',\n",
    "'C02':'Virus Diseases',\n",
    "'C03':'Parasitic Diseases',\n",
    "'C04':'Neoplasms',\n",
    "'MusCuloskeletal Diseases':'C05',\n",
    "'Digestive System Diseases':'C06',\n",
    "'Stomatognathic Diseases':'C07',\n",
    "'Respiratory Tract Diseases':'C08',\n",
    "'Otorhinolaryngologic Diseases':'C09',\n",
    "'Nervous System Diseases':'C10',\n",
    "'Eye Diseases':'C11',\n",
    "'Urologic and Male Genital Diseases':'C12',\n",
    "'Female Genital Diseases and Pregnancy Complications':'C13',\n",
    "'CardiovasCular Diseases':'C14',\n",
    "'Hemic and Lymphatic Diseases':'C15',\n",
    "'Neonatal Diseases and Abnormalities':'C16',\n",
    "'Skin and Connective Tissue Diseases':'C17',\n",
    "'Nutritional and Metabolic Diseases':'C18',\n",
    "'Endocrine Diseases':'C19',\n",
    "'Immunologic Diseases':'C20',\n",
    "'Disorders of Environmental Origin':'C21',\n",
    "'Animal Diseases':'C22',\n",
    "'Pathological Conditions, Signs and Symptoms':'C23'}"
   ]
  },
  {
   "cell_type": "code",
   "execution_count": 17,
   "metadata": {
    "collapsed": false
   },
   "outputs": [],
   "source": [
    "from __future__ import print_function\n",
    "\n",
    "import logging\n",
    "import numpy as np\n",
    "import sys\n",
    "from time import time\n",
    "import matplotlib.pyplot as plt\n",
    "\n",
    "from sklearn.datasets import load_files\n",
    "from sklearn.feature_extraction.text import TfidfVectorizer\n",
    "from sklearn.feature_extraction.text import HashingVectorizer\n",
    "from sklearn.feature_selection import SelectFromModel\n",
    "from sklearn.feature_selection import SelectKBest, chi2\n",
    "from sklearn.pipeline import Pipeline\n",
    "from sklearn.svm import LinearSVC\n",
    "\n",
    "from sklearn.utils.extmath import density\n",
    "from sklearn import metrics"
   ]
  },
  {
   "cell_type": "code",
   "execution_count": 18,
   "metadata": {
    "collapsed": true
   },
   "outputs": [],
   "source": [
    "dataset_folder = \"./ohsumed-first-20000-docs\""
   ]
  },
  {
   "cell_type": "code",
   "execution_count": 21,
   "metadata": {
    "collapsed": true
   },
   "outputs": [],
   "source": [
    "training_folder = dataset_folder + '/training'\n",
    "test_folder = dataset_folder + '/test'"
   ]
  },
  {
   "cell_type": "code",
   "execution_count": 22,
   "metadata": {
    "collapsed": false
   },
   "outputs": [],
   "source": [
    "test_data = load_files(container_path=test_folder, categories=None, load_content=True, shuffle=True, encoding='utf-8', random_state=17)\n",
    "training_data = load_files(container_path=training_folder, categories=None, load_content=True, shuffle=True, encoding='utf-8', random_state=17)"
   ]
  },
  {
   "cell_type": "code",
   "execution_count": 23,
   "metadata": {
    "collapsed": true
   },
   "outputs": [],
   "source": [
    "categories = training_data.target_names"
   ]
  },
  {
   "cell_type": "code",
   "execution_count": 24,
   "metadata": {
    "collapsed": false
   },
   "outputs": [
    {
     "name": "stdout",
     "output_type": "stream",
     "text": [
      "categories values:  ['C01', 'C02', 'C03', 'C04', 'C05', 'C06', 'C07', 'C08', 'C09', 'C10', 'C11', 'C12', 'C13', 'C14', 'C15', 'C16', 'C17', 'C18', 'C19', 'C20', 'C21', 'C22', 'C23']\n"
     ]
    }
   ],
   "source": [
    "print(\"categories values: \",categories)"
   ]
  },
  {
   "cell_type": "code",
   "execution_count": 25,
   "metadata": {
    "collapsed": false
   },
   "outputs": [
    {
     "data": {
      "text/plain": [
       "array([22, 22,  8, ..., 22,  0,  5])"
      ]
     },
     "execution_count": 25,
     "metadata": {},
     "output_type": "execute_result"
    }
   ],
   "source": [
    "y_train,y_test = training_data.target , test_data.target"
   ]
  },
  {
   "cell_type": "code",
   "execution_count": null,
   "metadata": {
    "collapsed": true
   },
   "outputs": [],
   "source": [
    "t"
   ]
  }
 ],
 "metadata": {
  "kernelspec": {
   "display_name": "Python 2",
   "language": "python",
   "name": "python2"
  },
  "language_info": {
   "codemirror_mode": {
    "name": "ipython",
    "version": 2
   },
   "file_extension": ".py",
   "mimetype": "text/x-python",
   "name": "python",
   "nbconvert_exporter": "python",
   "pygments_lexer": "ipython2",
   "version": "2.7.11"
  }
 },
 "nbformat": 4,
 "nbformat_minor": 2
}
