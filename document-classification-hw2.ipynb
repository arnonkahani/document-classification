{
 "cells": [
  {
   "cell_type": "code",
   "execution_count": 1,
   "metadata": {
    "collapsed": false
   },
   "outputs": [],
   "source": [
    "catagories = {'C01':'Bacterial Infections and Mycoses',\n",
    "'C02':'Virus Diseases',\n",
    "'C03':'Parasitic Diseases',\n",
    "'C04':'Neoplasms',\n",
    "'MusCuloskeletal Diseases':'C05',\n",
    "'Digestive System Diseases':'C06',\n",
    "'Stomatognathic Diseases':'C07',\n",
    "'Respiratory Tract Diseases':'C08',\n",
    "'Otorhinolaryngologic Diseases':'C09',\n",
    "'Nervous System Diseases':'C10',\n",
    "'Eye Diseases':'C11',\n",
    "'Urologic and Male Genital Diseases':'C12',\n",
    "'Female Genital Diseases and Pregnancy Complications':'C13',\n",
    "'CardiovasCular Diseases':'C14',\n",
    "'Hemic and Lymphatic Diseases':'C15',\n",
    "'Neonatal Diseases and Abnormalities':'C16',\n",
    "'Skin and Connective Tissue Diseases':'C17',\n",
    "'Nutritional and Metabolic Diseases':'C18',\n",
    "'Endocrine Diseases':'C19',\n",
    "'Immunologic Diseases':'C20',\n",
    "'Disorders of Environmental Origin':'C21',\n",
    "'Animal Diseases':'C22',\n",
    "'Pathological Conditions, Signs and Symptoms':'C23'}"
   ]
  },
  {
   "cell_type": "code",
   "execution_count": 2,
   "metadata": {
    "collapsed": false
   },
   "outputs": [
    {
     "name": "stderr",
     "output_type": "stream",
     "text": [
      "/usr/local/lib/python2.7/site-packages/matplotlib/font_manager.py:273: UserWarning: Matplotlib is building the font cache using fc-list. This may take a moment.\n",
      "  warnings.warn('Matplotlib is building the font cache using fc-list. This may take a moment.')\n"
     ]
    }
   ],
   "source": [
    "from __future__ import print_function\n",
    "\n",
    "import logging\n",
    "import numpy as np\n",
    "import sys\n",
    "from time import time\n",
    "import matplotlib.pyplot as plt\n",
    "\n",
    "from sklearn.datasets import load_files\n",
    "from sklearn.feature_extraction.text import TfidfVectorizer\n",
    "from sklearn.feature_extraction.text import HashingVectorizer\n",
    "from sklearn.feature_selection import SelectFromModel\n",
    "from sklearn.feature_selection import SelectKBest, chi2\n",
    "from sklearn.pipeline import Pipeline\n",
    "from sklearn.svm import LinearSVC\n",
    "\n",
    "from sklearn.utils.extmath import density\n",
    "from sklearn import metrics"
   ]
  },
  {
   "cell_type": "code",
   "execution_count": 3,
   "metadata": {
    "collapsed": true
   },
   "outputs": [],
   "source": [
    "dataset_folder = \"./ohsumed-first-20000-docs\""
   ]
  },
  {
   "cell_type": "code",
   "execution_count": 4,
   "metadata": {
    "collapsed": true
   },
   "outputs": [],
   "source": [
    "training_folder = dataset_folder + '/training'\n",
    "test_folder = dataset_folder + '/test'"
   ]
  },
  {
   "cell_type": "code",
   "execution_count": 5,
   "metadata": {
    "collapsed": false
   },
   "outputs": [],
   "source": [
    "test_data = load_files(container_path=test_folder, categories=None, load_content=True, shuffle=True, encoding='utf-8', random_state=17)\n",
    "training_data = load_files(container_path=training_folder, categories=None, load_content=True, shuffle=True, encoding='utf-8', random_state=17)"
   ]
  },
  {
   "cell_type": "code",
   "execution_count": 6,
   "metadata": {
    "collapsed": true
   },
   "outputs": [],
   "source": [
    "categories = training_data.target_names"
   ]
  },
  {
   "cell_type": "code",
   "execution_count": 7,
   "metadata": {
    "collapsed": false
   },
   "outputs": [
    {
     "name": "stdout",
     "output_type": "stream",
     "text": [
      "categories values:  ['C01', 'C02', 'C03', 'C04', 'C05', 'C06', 'C07', 'C08', 'C09', 'C10', 'C11', 'C12', 'C13', 'C14', 'C15', 'C16', 'C17', 'C18', 'C19', 'C20', 'C21', 'C22', 'C23']\n"
     ]
    }
   ],
   "source": [
    "print(\"categories values: \",categories)"
   ]
  },
  {
   "cell_type": "code",
   "execution_count": 25,
   "metadata": {
    "collapsed": false
   },
   "outputs": [],
   "source": [
    "y_train,y_test = training_data.target , test_data.target"
   ]
  },
  {
   "cell_type": "code",
   "execution_count": 26,
   "metadata": {
    "collapsed": false
   },
   "outputs": [
    {
     "name": "stdout",
     "output_type": "stream",
     "text": [
      "[nltk_data] Downloading package punkt to /Users/arnon/nltk_data...\n",
      "[nltk_data]   Package punkt is already up-to-date!\n"
     ]
    }
   ],
   "source": [
    "import nltk\n",
    "import string\n",
    "from multiprocessing import Pool\n",
    "from itertools import chain\n",
    "nltk.download('punkt')\n",
    "punkt = nltk.data.load('tokenizers/punkt/english.pickle')\n",
    "flatten = lambda l: [item for sublist in l for item in sublist]\n",
    "catagory_stats = {}\n",
    "for train_data_file, target in zip(training_data.data, training_data.target):\n",
    "    sentences = punkt.tokenize(train_data_file.lower())\n",
    "    words = flatten((reduce(lambda x, y: x.append(nltk.tokenize.word_tokenize(y)) or x , sentences, [])))\n",
    "    words = [word for word in words if not all(char in string.punctuation for char in word)]\n",
    "    words = [word for word in words if not (word.startswith(\"'\") and len(word) <=2)]\n",
    "    if target in catagory_stats:\n",
    "        catagory_stats[target].append(words)\n",
    "    else:\n",
    "        catagory_stats[target] = words"
   ]
  },
  {
   "cell_type": "code",
   "execution_count": 27,
   "metadata": {
    "collapsed": false
   },
   "outputs": [
    {
     "ename": "IndentationError",
     "evalue": "unindent does not match any outer indentation level (<ipython-input-27-7fe2a4ca3ac3>, line 7)",
     "output_type": "error",
     "traceback": [
      "\u001b[0;36m  File \u001b[0;32m\"<ipython-input-27-7fe2a4ca3ac3>\"\u001b[0;36m, line \u001b[0;32m7\u001b[0m\n\u001b[0;31m    counted_words_stopwords_remove = counted_words.copy()\u001b[0m\n\u001b[0m                                                         ^\u001b[0m\n\u001b[0;31mIndentationError\u001b[0m\u001b[0;31m:\u001b[0m unindent does not match any outer indentation level\n"
     ]
    }
   ],
   "source": [
    "from collections import Counter\n",
    "catagory_stats_counting_words = {}\n",
    "stopwords = nltk.corpus.stopwords.words('english')\n",
    "\n",
    "for catagory, words in catagory_stats.iteritems():\n",
    "    counted_words = Counter(words)\n",
    "    counted_words_stopwords_remove = counted_words.copy()\n",
    "    for key in counted_words:\n",
    "        if key in stopwords:\n",
    "            del counted_words_stopwords_remove[key]\n",
    "    catagory_stats_counting_words[catagory] = counted_words_stopwords_remove"
   ]
  },
  {
   "cell_type": "code",
   "execution_count": null,
   "metadata": {
    "collapsed": true
   },
   "outputs": [],
   "source": [
    "for catagory, words in catagory_stats_counting_words.iteritems():\n",
    "    print(catagory)\n",
    "    print(words.most_common(n=10))"
   ]
  }
 ],
 "metadata": {
  "kernelspec": {
   "display_name": "Python 2",
   "language": "python",
   "name": "python2"
  },
  "language_info": {
   "codemirror_mode": {
    "name": "ipython",
    "version": 2
   },
   "file_extension": ".py",
   "mimetype": "text/x-python",
   "name": "python",
   "nbconvert_exporter": "python",
   "pygments_lexer": "ipython2",
   "version": "2.7.11"
  }
 },
 "nbformat": 4,
 "nbformat_minor": 2
}
